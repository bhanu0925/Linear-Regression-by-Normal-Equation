{
 "cells": [
  {
   "cell_type": "markdown",
   "metadata": {},
   "source": [
    "# Linear Regression using Normal Equation (Linear algebra (matrices))"
   ]
  },
  {
   "attachments": {
    "noramleq.png": {
     "image/png": "[encoded data removed]"
    }
   },
   "cell_type": "markdown",
   "metadata": {},
   "source": [
    "![noramleq.png](attachment:noramleq.png)"
   ]
  },
  {
   "cell_type": "markdown",
   "metadata": {},
   "source": [
    "## Problem Statement: To predict the SAT score based on the other subjects marks like General Knowledge, Aptitude, Maths, Science."
   ]
  },
  {
   "cell_type": "markdown",
   "metadata": {},
   "source": [
    "### Importing the required packages"
   ]
  },
  {
   "cell_type": "code",
   "execution_count": 26,
   "metadata": {},
   "outputs": [],
   "source": [
    "import numpy as np \n",
    "import pandas as pd\n",
    "import seaborn as sns\n",
    "import matplotlib.pyplot as plt\n",
    "import missingno as mino\n",
    "import pandas_profiling as pp\n",
    "\n",
    "import warnings\n",
    "warnings.simplefilter(\"ignore\")\n",
    "from sklearn.impute import SimpleImputer\n",
    "from sklearn.linear_model import LinearRegression\n",
    "from sklearn.model_selection import train_test_split\n",
    "from sklearn.metrics import mean_squared_error,accuracy_score,r2_score,mean_absolute_error\n",
    "\n",
    "from datetime import datetime\n",
    "import logging\n",
    "import pickle\n",
    "import os\n",
    "%matplotlib inline\n",
    "os.chdir(os.getcwd())\n",
    "logging.basicConfig(filename='SAT.log',level = logging.INFO,force = True)\n",
    "logging.info(\"SAT Exam Score Prediction\")"
   ]
  },
  {
   "cell_type": "markdown",
   "metadata": {},
   "source": [
    "### Class EDA"
   ]
  },
  {
   "cell_type": "code",
   "execution_count": 27,
   "metadata": {},
   "outputs": [],
   "source": [
    "class EDA():\n",
    "    \n",
    "    def __init__(self):\n",
    "        pass\n",
    "    \n",
    "     ## 1. Load the data set\n",
    "    def loaddata(self,filename):\n",
    "        \n",
    "        \"\"\" Load the data \"\"\"\n",
    "        try:\n",
    "            df = pd.read_csv(filename)\n",
    "            logging.info(\"Dataset loaded!\")\n",
    "            return df\n",
    "        except Exception as e:\n",
    "            logging.exception(str(e)) \n",
    "            \n",
    "            \n",
    "    #  panda profiling\n",
    "    def profiling(self,df):\n",
    "        \n",
    "        \"\"\" Performs EDA on dataset and saves the profiling file. \"\"\"\n",
    "        try:\n",
    "            pf = pp.ProfileReport(df)\n",
    "            pd_f = pf.to_widgets()\n",
    "            pf.to_file(\"SAT_Profiling.html\")\n",
    "            logging.info(\"Profiling completed\")\n",
    "            return df\n",
    "        except Exception as e:\n",
    "            logging.exception(str(e))\n",
    "            \n",
    "    def eda(self,filename):\n",
    "        \n",
    "        \"\"\" performs initial EDA\"\"\"\n",
    "        df = self.loaddata(filename)\n",
    "        df = self.profiling(df)\n",
    "        return df\n",
    "    "
   ]
  },
  {
   "cell_type": "markdown",
   "metadata": {},
   "source": [
    "### Class Datapreprocessing"
   ]
  },
  {
   "cell_type": "code",
   "execution_count": 28,
   "metadata": {},
   "outputs": [],
   "source": [
    "class Datapreprocessing():\n",
    "    \n",
    "    def __init__(self):\n",
    "        pass\n",
    "    \n",
    "    def clean_column_names(self,df):\n",
    "        \"\"\" Removes special charectors and space\n",
    "        form columns names\"\"\"\n",
    "        try:\n",
    "            columns = df.columns\n",
    "            colupdated = []\n",
    "            for col in columns:\n",
    "                removespecialchars = col.translate({ord(c): \"\" for c in \"!@#$%^&*()[]{};:,. /<>?\\|`~-=_+'\"})\n",
    "                colupdated.append(removespecialchars)\n",
    "            df.columns = colupdated\n",
    "            logging.info(\"Column header updated\")\n",
    "            return df\n",
    "        except Exception as e:\n",
    "            logging.exception(str(e))  \n",
    "    \n",
    "\n",
    "    def remove_outlier_IQR(self,df, q1=0.25, q3=0.75):\n",
    "        \"\"\" Removes outliers with Q1 = 0.25, Q3 = 0.75\"\"\"\n",
    "\n",
    "        try:        \n",
    "            Q1 = df.quantile(q1)\n",
    "            Q3 = df.quantile(q3)\n",
    "            IQR = Q3 - Q1\n",
    "            df_final = df[~((df < (Q1 - 1.5 * IQR)) | (df > (Q3 + 1.5 * IQR)))]\n",
    "            logging.info(\"Outliers removed\")\n",
    "            return df_final\n",
    "        except Exception as e:\n",
    "            logging.exception(str(e))\n",
    "    \n",
    "    def drop_duplicate(self,df, keep = 'first'):\n",
    "        \"\"\" Drops duplicate rows\n",
    "        keep = first - keeping the first occurrence\n",
    "        keep = 'fast - keeping last occurrence\n",
    "        keep = False - keeps nothing. \"\"\"\n",
    "        try:\n",
    "            df = df.drop_duplicates(subset=None, keep= keep, inplace=False)\n",
    "            return df\n",
    "        except Exception as e:\n",
    "            logging.exception(str(e))\n",
    "\n",
    "    def drop_missing_value(self,df, axis=0):\n",
    "        \"\"\"Drops missing values rows or columns\n",
    "         df - DataFrame\n",
    "         axis = 1 - columns\n",
    "         axis = 0 - rows \"\"\"\n",
    "\n",
    "        try:\n",
    "            reduced_df = df.dropna(axis=axis)\n",
    "            logging.info(\"Missing values dropped\")\n",
    "            return reduced_df\n",
    "        except Exception as e:\n",
    "            logging.exception(str(e))\n",
    "\n",
    "\n",
    "    def impute_missing_value(self,df):\n",
    "        \"\"\"make new columns indicating what will be imputed\"\"\"\n",
    "\n",
    "        try:\n",
    "            cols_with_missing = (col for col in df.columns\n",
    "                                 if df[col].isna().any())\n",
    "            for col in cols_with_missing:\n",
    "                df[col + '_was_missing'] = df[col].isnull()\n",
    "            columns = df.columns\n",
    "            # Imputation\n",
    "            my_imputer = SimpleImputer()\n",
    "            df = pd.DataFrame(my_imputer.fit_transform(df), columns=columns)\n",
    "            logging.info(\"Missing values imputed\")\n",
    "            return df\n",
    "        except Exception as e:\n",
    "            logging.exception(str(e))\n",
    "\n",
    "\n",
    "    def dataprocess(self,df):\n",
    "        \"\"\" Performs, cleaning columns headers, removing outliers, imputing missed values\"\"\"\n",
    "        df = self.clean_column_names(df)\n",
    "        print(\"Columns headers cleaned\") \n",
    "        df = self.remove_outlier_IQR(df)\n",
    "        print(\"Outliers removed\")\n",
    "        df = self.drop_missing_value(df)\n",
    "        print(\"missing values imputed\")\n",
    "        return df\n",
    "\n",
    "    \n",
    "\n",
    "    "
   ]
  },
  {
   "cell_type": "markdown",
   "metadata": {},
   "source": [
    "### Class VisualizeData"
   ]
  },
  {
   "cell_type": "code",
   "execution_count": 29,
   "metadata": {},
   "outputs": [],
   "source": [
    "class VisualizeData():\n",
    "    \n",
    "    def __init__(self):\n",
    "        pass\n",
    "    \n",
    "    def bivariateanalysis(df):\n",
    "        pass\n",
    "        \n",
    "        pass\n",
    "    def multivariateanalysis(self,df):\n",
    "        \"\"\" Displays multivariate analysis\"\"\"\n",
    "        sns.pairplot(df,height=2,diag_kind='kde')\n",
    "        return df\n",
    "        "
   ]
  },
  {
   "cell_type": "markdown",
   "metadata": {},
   "source": [
    "### Class TrainSATModel"
   ]
  },
  {
   "cell_type": "code",
   "execution_count": 30,
   "metadata": {},
   "outputs": [],
   "source": [
    "class TrainSATModel():\n",
    "    theta_ = []\n",
    "    X_train_= []\n",
    "    X_test_ = []\n",
    "    y_train_ =[]\n",
    "    y_test_ = []\n",
    "    y_pred_ = []\n",
    "    \n",
    "    \n",
    "    \n",
    "    def __init__(self):\n",
    "        pass\n",
    "    \n",
    "    def splitthedata(self,X,y):\n",
    "        \"\"\" split the data into training and test\"\"\"\n",
    "        try:\n",
    "\n",
    "            ## Splitting data\n",
    "            logging.info(\"Data Splitting completed\")\n",
    "            return train_test_split(X,y,test_size=0.2,random_state=42)   \n",
    "        except Exception as e:\n",
    "            logging.exception(str(e)) \n",
    "\n",
    "        \n",
    "    def trainmodel(self,df):\n",
    "        \"\"\" This function train the model using liner algebra (matrices method)\n",
    "        normal equation => b = (X^T . X)^-1 . X^T . y \n",
    "        yhat = X.dot(b) \n",
    "        Steps :\n",
    "        1. Add a new column the beginning with all 1’s for the intercept in the X matrix\n",
    "        2. Take the transpose of X matrix\n",
    "        3. Multiply X transpose and X matrices\n",
    "        4. Find the inverse of this matrix\n",
    "        5. Multiply X transpose with y matrix\n",
    "        6. Multiply both the matrices to find the intercept and the coefficient\n",
    "        \"\"\"         \n",
    "        \n",
    "        try:\n",
    "            #Separate input variables to matrix convert into np array\n",
    "\n",
    "            X1 = df['Generalknowledge'].values\n",
    "            X2 = df['Aptitude'].values\n",
    "            X3 = df['Mathematics'].values\n",
    "            X4 = df['Science'].values\n",
    "            y = df['SAT'].values   \n",
    "\n",
    "\n",
    "\n",
    "            # 1. Add a new column the beginning with all 1’s for the intercept in the X matrix\n",
    "            X0 = np.ones(len(X1))\n",
    "            X = np.array([X0,X1,X2,X3,X4]).T\n",
    "\n",
    "            self.X_train_, self.X_test_,self.y_train_,self.y_test_ = self.splitthedata(X,y)\n",
    "\n",
    "\n",
    "            #2. 2. Take the transpose of X matrix  --> X^T\n",
    "\n",
    "            X_transpose = np.transpose(self.X_train_)\n",
    "\n",
    "            #3. Multiply X transpose and X matrices  --- (X^T . X)\n",
    "\n",
    "            X_trans_dot_X = X_transpose.dot(self.X_train_)\n",
    "\n",
    "            # 4. Find the inverse of this matrix - (X^T . X)^-1\n",
    "\n",
    "            X_trans_dot_X_inverse = np.linalg.inv(X_trans_dot_X)\n",
    "\n",
    "            #5 Multiply X transpose with y matrix  - > X^T . y        \n",
    "\n",
    "            self.theta_ = X_trans_dot_X_inverse.dot(self.X_train_.T).dot(self.y_train_)\n",
    "\n",
    "\n",
    "            new_df = pd.DataFrame({\"B0\" : self.theta_[0], \"B1\" : self.theta_[1],\"B2\" : self.theta_[2],\"B3\": self.theta_[3],\"B4\" : self.theta_[4]},index=[0])\n",
    "            new_df.to_csv(\"SAT_BetaValues.csv\")\n",
    "            logging.info(\"Model training Completed\")\n",
    "            logging.info(\"Theta Values\")\n",
    "            logging.ingo(self.theta_)\n",
    "                         \n",
    "            return self.theta_\n",
    "        except Exception as e:\n",
    "            logging.exception(str(e))\n",
    "\n",
    "    def predictTest(self):       \n",
    "        \"\"\" Predicted the values for teh test data\"\"\"\n",
    "        try:\n",
    "            \n",
    "            self.y_pred_ = self.X_test_.dot(self.theta_)        \n",
    "            pred_df = pd.DataFrame({\"Actual\" : self.y_test_, \"Predicted\" : self.y_pred_})  \n",
    "            logging.info(\"Prediction with test data\")\n",
    "            logging.info(\"****************Predicted values**************\")\n",
    "            logging.info(pred_df)\n",
    "            return pred_df\n",
    "        except Exception as e:\n",
    "            logging.exception(str(e))\n",
    "    \n",
    "    def metrics(self):\n",
    "        \"\"\" Model metrics\"\"\"\n",
    "        try:\n",
    "            \n",
    "            print('Mean Absolute Error:', mean_absolute_error(self.y_test_, self.y_pred_)) \n",
    "            print('Mean Squared Error:', mean_squared_error(self.y_test_, self.y_pred_))  \n",
    "            print('Root Mean Squared Error:', np.sqrt(mean_squared_error(self.y_test_, self.y_pred_)))\n",
    "            logging.info(\"***********Metrics***************\")   \n",
    "            \n",
    "        except Exception as e:\n",
    "            logging.exception(str(e))    \n",
    "\n",
    "    def score(self):\n",
    "        \"\"\" Accuracy if the model\"\"\"\n",
    "        try:\n",
    "            score = r2_score(self.y_test_,self.y_pred_)\n",
    "            \n",
    "            logging.info(\"Accuracy\")\n",
    "            logging.info(score)\n",
    "            return score      \n",
    "        except Exception as e:\n",
    "            logging.exception(str(e))\n",
    "        "
   ]
  },
  {
   "cell_type": "markdown",
   "metadata": {},
   "source": [
    "### EDA"
   ]
  },
  {
   "cell_type": "code",
   "execution_count": 31,
   "metadata": {},
   "outputs": [
    {
     "data": {
      "application/vnd.jupyter.widget-view+json": {
       "model_id": "9b69380101df43dfba501a005856da33",
       "version_major": 2,
       "version_minor": 0
      },
      "text/plain": [
       "Summarize dataset:   0%|          | 0/18 [00:00<?, ?it/s]"
      ]
     },
     "metadata": {},
     "output_type": "display_data"
    },
    {
     "data": {
      "application/vnd.jupyter.widget-view+json": {
       "model_id": "b31a723cdcd74823bcfe8831134a70f0",
       "version_major": 2,
       "version_minor": 0
      },
      "text/plain": [
       "Generate report structure:   0%|          | 0/1 [00:00<?, ?it/s]"
      ]
     },
     "metadata": {},
     "output_type": "display_data"
    },
    {
     "data": {
      "application/vnd.jupyter.widget-view+json": {
       "model_id": "",
       "version_major": 2,
       "version_minor": 0
      },
      "text/plain": [
       "Render widgets:   0%|          | 0/1 [00:00<?, ?it/s]"
      ]
     },
     "metadata": {},
     "output_type": "display_data"
    },
    {
     "data": {
      "application/vnd.jupyter.widget-view+json": {
       "model_id": "eddb34b3bfd34b169b4dfe54a6ca6a21",
       "version_major": 2,
       "version_minor": 0
      },
      "text/plain": [
       "VBox(children=(Tab(children=(Tab(children=(GridBox(children=(VBox(children=(GridspecLayout(children=(HTML(valu…"
      ]
     },
     "metadata": {},
     "output_type": "display_data"
    },
    {
     "data": {
      "application/vnd.jupyter.widget-view+json": {
       "model_id": "77b58375505a491c98ab765c656da595",
       "version_major": 2,
       "version_minor": 0
      },
      "text/plain": [
       "Render HTML:   0%|          | 0/1 [00:00<?, ?it/s]"
      ]
     },
     "metadata": {},
     "output_type": "display_data"
    },
    {
     "data": {
      "application/vnd.jupyter.widget-view+json": {
       "model_id": "ba79da987f38491ea81164640219e770",
       "version_major": 2,
       "version_minor": 0
      },
      "text/plain": [
       "Export report to file:   0%|          | 0/1 [00:00<?, ?it/s]"
      ]
     },
     "metadata": {},
     "output_type": "display_data"
    }
   ],
   "source": [
    "df_eda = EDA().eda(\"SAT_Exam.csv\")"
   ]
  },
  {
   "cell_type": "markdown",
   "metadata": {},
   "source": [
    "### Data Pre processing"
   ]
  },
  {
   "cell_type": "code",
   "execution_count": 32,
   "metadata": {},
   "outputs": [
    {
     "name": "stdout",
     "output_type": "stream",
     "text": [
      "Columns headers cleaned\n",
      "Outliers removed\n",
      "missing values imputed\n"
     ]
    }
   ],
   "source": [
    "df_datapro = Datapreprocessing().dataprocess(df_eda)"
   ]
  },
  {
   "cell_type": "markdown",
   "metadata": {},
   "source": [
    "### Data Visualization"
   ]
  },
  {
   "cell_type": "code",
   "execution_count": 33,
   "metadata": {},
   "outputs": [
    {
     "data": {
      "image/png": "[encoded data removed]",
      "text/plain": [
       "<Figure size 720x720 with 30 Axes>"
      ]
     },
     "metadata": {
      "needs_background": "light"
     },
     "output_type": "display_data"
    }
   ],
   "source": [
    "df_viz = VisualizeData().multivariateanalysis(df_datapro)"
   ]
  },
  {
   "cell_type": "markdown",
   "metadata": {},
   "source": [
    "### Model training"
   ]
  },
  {
   "cell_type": "code",
   "execution_count": 34,
   "metadata": {},
   "outputs": [],
   "source": [
    "model = TrainSATModel()"
   ]
  },
  {
   "cell_type": "code",
   "execution_count": 35,
   "metadata": {},
   "outputs": [],
   "source": [
    "model.trainmodel(df_datapro)"
   ]
  },
  {
   "cell_type": "code",
   "execution_count": 36,
   "metadata": {},
   "outputs": [
    {
     "data": {
      "text/plain": [
       "array([-3.51179036,  1.31588808, -0.27456749,  0.01999536,  0.97298178])"
      ]
     },
     "execution_count": 36,
     "metadata": {},
     "output_type": "execute_result"
    }
   ],
   "source": [
    "model.theta_"
   ]
  },
  {
   "cell_type": "markdown",
   "metadata": {},
   "source": [
    "### Model Prediction\n",
    "\n",
    "        - X_test.dot(theta) "
   ]
  },
  {
   "cell_type": "code",
   "execution_count": 37,
   "metadata": {},
   "outputs": [
    {
     "data": {
      "text/html": [
       "<div>\n",
       "<style scoped>\n",
       "    .dataframe tbody tr th:only-of-type {\n",
       "        vertical-align: middle;\n",
       "    }\n",
       "\n",
       "    .dataframe tbody tr th {\n",
       "        vertical-align: top;\n",
       "    }\n",
       "\n",
       "    .dataframe thead th {\n",
       "        text-align: right;\n",
       "    }\n",
       "</style>\n",
       "<table border=\"1\" class=\"dataframe\">\n",
       "  <thead>\n",
       "    <tr style=\"text-align: right;\">\n",
       "      <th></th>\n",
       "      <th>Actual</th>\n",
       "      <th>Predicted</th>\n",
       "    </tr>\n",
       "  </thead>\n",
       "  <tbody>\n",
       "    <tr>\n",
       "      <th>0</th>\n",
       "      <td>146.0</td>\n",
       "      <td>140.093932</td>\n",
       "    </tr>\n",
       "    <tr>\n",
       "      <th>1</th>\n",
       "      <td>148.0</td>\n",
       "      <td>151.075241</td>\n",
       "    </tr>\n",
       "    <tr>\n",
       "      <th>2</th>\n",
       "      <td>147.0</td>\n",
       "      <td>148.459626</td>\n",
       "    </tr>\n",
       "    <tr>\n",
       "      <th>3</th>\n",
       "      <td>140.0</td>\n",
       "      <td>138.889051</td>\n",
       "    </tr>\n",
       "    <tr>\n",
       "      <th>4</th>\n",
       "      <td>115.0</td>\n",
       "      <td>109.434290</td>\n",
       "    </tr>\n",
       "    <tr>\n",
       "      <th>5</th>\n",
       "      <td>144.0</td>\n",
       "      <td>145.561075</td>\n",
       "    </tr>\n",
       "    <tr>\n",
       "      <th>6</th>\n",
       "      <td>183.0</td>\n",
       "      <td>182.017404</td>\n",
       "    </tr>\n",
       "    <tr>\n",
       "      <th>7</th>\n",
       "      <td>136.0</td>\n",
       "      <td>131.205481</td>\n",
       "    </tr>\n",
       "    <tr>\n",
       "      <th>8</th>\n",
       "      <td>159.0</td>\n",
       "      <td>159.096777</td>\n",
       "    </tr>\n",
       "    <tr>\n",
       "      <th>9</th>\n",
       "      <td>158.0</td>\n",
       "      <td>158.312851</td>\n",
       "    </tr>\n",
       "    <tr>\n",
       "      <th>10</th>\n",
       "      <td>157.0</td>\n",
       "      <td>156.374535</td>\n",
       "    </tr>\n",
       "    <tr>\n",
       "      <th>11</th>\n",
       "      <td>186.0</td>\n",
       "      <td>184.099900</td>\n",
       "    </tr>\n",
       "    <tr>\n",
       "      <th>12</th>\n",
       "      <td>159.0</td>\n",
       "      <td>157.092040</td>\n",
       "    </tr>\n",
       "    <tr>\n",
       "      <th>13</th>\n",
       "      <td>156.0</td>\n",
       "      <td>155.931398</td>\n",
       "    </tr>\n",
       "    <tr>\n",
       "      <th>14</th>\n",
       "      <td>183.0</td>\n",
       "      <td>188.040424</td>\n",
       "    </tr>\n",
       "    <tr>\n",
       "      <th>15</th>\n",
       "      <td>208.0</td>\n",
       "      <td>213.626543</td>\n",
       "    </tr>\n",
       "    <tr>\n",
       "      <th>16</th>\n",
       "      <td>169.0</td>\n",
       "      <td>163.269384</td>\n",
       "    </tr>\n",
       "    <tr>\n",
       "      <th>17</th>\n",
       "      <td>143.0</td>\n",
       "      <td>146.197892</td>\n",
       "    </tr>\n",
       "  </tbody>\n",
       "</table>\n",
       "</div>"
      ],
      "text/plain": [
       "    Actual   Predicted\n",
       "0    146.0  140.093932\n",
       "1    148.0  151.075241\n",
       "2    147.0  148.459626\n",
       "3    140.0  138.889051\n",
       "4    115.0  109.434290\n",
       "5    144.0  145.561075\n",
       "6    183.0  182.017404\n",
       "7    136.0  131.205481\n",
       "8    159.0  159.096777\n",
       "9    158.0  158.312851\n",
       "10   157.0  156.374535\n",
       "11   186.0  184.099900\n",
       "12   159.0  157.092040\n",
       "13   156.0  155.931398\n",
       "14   183.0  188.040424\n",
       "15   208.0  213.626543\n",
       "16   169.0  163.269384\n",
       "17   143.0  146.197892"
      ]
     },
     "execution_count": 37,
     "metadata": {},
     "output_type": "execute_result"
    }
   ],
   "source": [
    "df = model.predictTest()\n",
    "df"
   ]
  },
  {
   "cell_type": "markdown",
   "metadata": {},
   "source": [
    "### Model Score"
   ]
  },
  {
   "cell_type": "code",
   "execution_count": 38,
   "metadata": {},
   "outputs": [
    {
     "data": {
      "text/plain": [
       "0.973716698179376"
      ]
     },
     "execution_count": 38,
     "metadata": {},
     "output_type": "execute_result"
    }
   ],
   "source": [
    "model.score()"
   ]
  },
  {
   "cell_type": "markdown",
   "metadata": {},
   "source": [
    "### Model Metrics"
   ]
  },
  {
   "cell_type": "code",
   "execution_count": 39,
   "metadata": {},
   "outputs": [
    {
     "name": "stdout",
     "output_type": "stream",
     "text": [
      "Mean Absolute Error: 2.7201673657812973\n",
      "Mean Squared Error: 11.83081179265933\n",
      "Root Mean Squared Error: 3.439594713430542\n"
     ]
    }
   ],
   "source": [
    "model.metrics()"
   ]
  },
  {
   "cell_type": "code",
   "execution_count": 40,
   "metadata": {},
   "outputs": [
    {
     "data": {
      "text/plain": [
       "array([[  1.,  81.,  86.,  64.,  61.],\n",
       "       [  1.,  66.,  68.,  88.,  87.],\n",
       "       [  1.,  83.,  79.,  60.,  65.],\n",
       "       [  1.,  70.,  70.,  70.,  70.],\n",
       "       [  1.,  70.,  69.,  43.,  40.],\n",
       "       [  1.,  73.,  71.,  74.,  73.],\n",
       "       [  1.,  88.,  93.,  93.,  96.],\n",
       "       [  1.,  82.,  87.,  54.,  51.],\n",
       "       [  1.,  93.,  96.,  70.,  67.],\n",
       "       [  1.,  74.,  76.,  82.,  86.],\n",
       "       [  1.,  73.,  68.,  87.,  83.],\n",
       "       [  1.,  97.,  96.,  84.,  87.],\n",
       "       [  1.,  89.,  91.,  67.,  69.],\n",
       "       [  1.,  75.,  75.,  78.,  82.],\n",
       "       [  1.,  95.,  90.,  87.,  92.],\n",
       "       [  1.,  93.,  89., 122., 120.],\n",
       "       [  1.,  73.,  75.,  90.,  92.],\n",
       "       [  1.,  87.,  85.,  58.,  59.]])"
      ]
     },
     "execution_count": 40,
     "metadata": {},
     "output_type": "execute_result"
    }
   ],
   "source": [
    "model.X_test_"
   ]
  },
  {
   "cell_type": "code",
   "execution_count": 41,
   "metadata": {},
   "outputs": [
    {
     "data": {
      "text/plain": [
       "array([146., 148., 147., 140., 115., 144., 183., 136., 159., 158., 157.,\n",
       "       186., 159., 156., 183., 208., 169., 143.])"
      ]
     },
     "execution_count": 41,
     "metadata": {},
     "output_type": "execute_result"
    }
   ],
   "source": [
    "model.y_test_"
   ]
  },
  {
   "cell_type": "code",
   "execution_count": 45,
   "metadata": {},
   "outputs": [],
   "source": [
    "logging.shutdown()"
   ]
  },
  {
   "cell_type": "markdown",
   "metadata": {},
   "source": [
    "### New Predictions"
   ]
  },
  {
   "cell_type": "code",
   "execution_count": 42,
   "metadata": {},
   "outputs": [],
   "source": [
    "def predictnew(gk,apt,maths,sci):\n",
    "    df = pd.read_csv(\"SAT_BetaValues.csv\")\n",
    "    y = df['B0'].values + df['B1'].values * gk + df['B2'].values * apt + df['B3'].values * maths + df['B4'].values * sci\n",
    "    return y[0]"
   ]
  },
  {
   "cell_type": "markdown",
   "metadata": {},
   "source": [
    "### Run this cell for new predictions"
   ]
  },
  {
   "cell_type": "code",
   "execution_count": 44,
   "metadata": {},
   "outputs": [
    {
     "name": "stdout",
     "output_type": "stream",
     "text": [
      "Enter General Knowledge marks : 78\n",
      "Enter Aptitude marks : 89\n",
      "Enter Maths marks : 67\n",
      "Enter Science marks : 55\n",
      "\n",
      "\n",
      " Predicted SAT Score is : 129.5446608335995\n"
     ]
    }
   ],
   "source": [
    "gk = float(input(\"Enter General Knowledge marks : \"))\n",
    "apt = float(input(\"Enter Aptitude marks : \"))\n",
    "maths = float(input(\"Enter Maths marks : \"))\n",
    "sci = float(input(\"Enter Science marks : \"))\n",
    "\n",
    "print(\"\\n\\nPredicted SAT Score is :\", predictnew(gk,apt,maths,sci))"
   ]
  },
  {
   "cell_type": "code",
   "execution_count": null,
   "metadata": {},
   "outputs": [],
   "source": []
  }
 ],
 "metadata": {
  "kernelspec": {
   "display_name": "Python 3",
   "language": "python",
   "name": "python3"
  },
  "language_info": {
   "codemirror_mode": {
    "name": "ipython",
    "version": 3
   },
   "file_extension": ".py",
   "mimetype": "text/x-python",
   "name": "python",
   "nbconvert_exporter": "python",
   "pygments_lexer": "ipython3",
   "version": "3.8.8"
  }
 },
 "nbformat": 4,
 "nbformat_minor": 2
}
